{
  "nbformat": 4,
  "nbformat_minor": 0,
  "metadata": {
    "colab": {
      "provenance": [],
      "gpuType": "T4"
    },
    "kernelspec": {
      "name": "python3",
      "display_name": "Python 3"
    },
    "language_info": {
      "name": "python"
    },
    "accelerator": "GPU"
  },
  "cells": [
    {
      "cell_type": "code",
      "execution_count": 1,
      "metadata": {
        "id": "tiUUVY4oFq_1"
      },
      "outputs": [],
      "source": [
        "import tensorflow as tf\n",
        "\n",
        "cifar10 = tf.keras.datasets.cifar10"
      ]
    },
    {
      "cell_type": "code",
      "source": [
        "(X_train,y_train),(X_test, y_test) = cifar10.load_data()"
      ],
      "metadata": {
        "id": "V4u-mQwMNH0M",
        "colab": {
          "base_uri": "https://localhost:8080/"
        },
        "outputId": "9b77aec7-2c4c-491e-fd4a-a93aefb174c6"
      },
      "execution_count": 2,
      "outputs": [
        {
          "output_type": "stream",
          "name": "stdout",
          "text": [
            "Downloading data from https://www.cs.toronto.edu/~kriz/cifar-10-python.tar.gz\n",
            "170498071/170498071 [==============================] - 14s 0us/step\n"
          ]
        }
      ]
    },
    {
      "cell_type": "code",
      "source": [
        "X_train.shape,X_test.shape"
      ],
      "metadata": {
        "colab": {
          "base_uri": "https://localhost:8080/"
        },
        "id": "WICYdmxvNpB4",
        "outputId": "c9c8cb7c-7c95-48f4-9fbd-06be24baaf3f"
      },
      "execution_count": 3,
      "outputs": [
        {
          "output_type": "execute_result",
          "data": {
            "text/plain": [
              "((50000, 32, 32, 3), (10000, 32, 32, 3))"
            ]
          },
          "metadata": {},
          "execution_count": 3
        }
      ]
    },
    {
      "cell_type": "markdown",
      "source": [
        "60000 resim, 32x32 boyut, 3 renk kanalı"
      ],
      "metadata": {
        "id": "T8b3UFhnSenK"
      }
    },
    {
      "cell_type": "code",
      "source": [
        "X_train[55]"
      ],
      "metadata": {
        "colab": {
          "base_uri": "https://localhost:8080/"
        },
        "id": "qgH3MMAvNkPV",
        "outputId": "a0194384-d0ab-4f2c-d532-7a6ab9b59870"
      },
      "execution_count": 4,
      "outputs": [
        {
          "output_type": "execute_result",
          "data": {
            "text/plain": [
              "array([[[156, 194, 129],\n",
              "        [167, 212, 127],\n",
              "        [169, 215, 129],\n",
              "        ...,\n",
              "        [243, 247, 226],\n",
              "        [230, 235, 206],\n",
              "        [208, 215, 180]],\n",
              "\n",
              "       [[174, 210, 147],\n",
              "        [192, 229, 159],\n",
              "        [172, 204, 163],\n",
              "        ...,\n",
              "        [237, 243, 223],\n",
              "        [213, 221, 200],\n",
              "        [186, 193, 169]],\n",
              "\n",
              "       [[192, 234, 145],\n",
              "        [194, 230, 178],\n",
              "        [174, 201, 194],\n",
              "        ...,\n",
              "        [226, 231, 218],\n",
              "        [198, 208, 186],\n",
              "        [195, 200, 165]],\n",
              "\n",
              "       ...,\n",
              "\n",
              "       [[187, 211, 151],\n",
              "        [211, 234, 180],\n",
              "        [231, 244, 221],\n",
              "        ...,\n",
              "        [210, 204, 199],\n",
              "        [217, 208, 210],\n",
              "        [203, 192, 192]],\n",
              "\n",
              "       [[231, 238, 218],\n",
              "        [220, 236, 209],\n",
              "        [200, 219, 177],\n",
              "        ...,\n",
              "        [183, 170, 153],\n",
              "        [189, 175, 160],\n",
              "        [186, 169, 153]],\n",
              "\n",
              "       [[238, 242, 224],\n",
              "        [238, 247, 232],\n",
              "        [229, 239, 217],\n",
              "        ...,\n",
              "        [141, 126, 106],\n",
              "        [151, 137, 117],\n",
              "        [157, 141, 118]]], dtype=uint8)"
            ]
          },
          "metadata": {},
          "execution_count": 4
        }
      ]
    },
    {
      "cell_type": "code",
      "source": [
        "import matplotlib.pyplot as plt\n",
        "\n",
        "plt.imshow(X_train[178])"
      ],
      "metadata": {
        "colab": {
          "base_uri": "https://localhost:8080/",
          "height": 448
        },
        "id": "4QMqkPKTNYDs",
        "outputId": "805c99ce-f1aa-4db7-ed5a-0c44ebd89e97"
      },
      "execution_count": 8,
      "outputs": [
        {
          "output_type": "execute_result",
          "data": {
            "text/plain": [
              "<matplotlib.image.AxesImage at 0x7d003bc22410>"
            ]
          },
          "metadata": {},
          "execution_count": 8
        },
        {
          "output_type": "display_data",
          "data": {
            "text/plain": [
              "<Figure size 640x480 with 1 Axes>"
            ],
            "image/png": "[encoded data removed]"
          },
          "metadata": {}
        }
      ]
    },
    {
      "cell_type": "code",
      "source": [
        "classes = [\"airplane\",\"automobile\",\"bird\",\"cat\",\"deer\",\"dog\",\"frog\",\"horse\",\"ship\",\"truck\"]"
      ],
      "metadata": {
        "id": "9Rkf9wKaN5VT"
      },
      "execution_count": 9,
      "outputs": []
    },
    {
      "cell_type": "code",
      "source": [
        "import numpy as np\n",
        "\n",
        "np.isnan(X_train).any(),np.isnan(X_test).any()"
      ],
      "metadata": {
        "id": "z6Hfa1iHOTKs",
        "colab": {
          "base_uri": "https://localhost:8080/"
        },
        "outputId": "35082a83-058d-4798-cd05-dc64eeb35726"
      },
      "execution_count": 10,
      "outputs": [
        {
          "output_type": "execute_result",
          "data": {
            "text/plain": [
              "(False, False)"
            ]
          },
          "metadata": {},
          "execution_count": 10
        }
      ]
    },
    {
      "cell_type": "markdown",
      "source": [
        "# Preprocessing"
      ],
      "metadata": {
        "id": "LZczBXNwSm9S"
      }
    },
    {
      "cell_type": "code",
      "source": [
        "#Normalization\n",
        "X_train = X_train / 255.0\n",
        "X_test = X_test / 255.0"
      ],
      "metadata": {
        "id": "9ChF_2GuSjjK"
      },
      "execution_count": 11,
      "outputs": []
    },
    {
      "cell_type": "code",
      "source": [
        "X_train"
      ],
      "metadata": {
        "colab": {
          "base_uri": "https://localhost:8080/"
        },
        "id": "DaW22ZU5TK9r",
        "outputId": "d14c71b3-1c5b-4427-9dd6-b28aaf9578f0"
      },
      "execution_count": 12,
      "outputs": [
        {
          "output_type": "execute_result",
          "data": {
            "text/plain": [
              "array([[[[0.23137255, 0.24313725, 0.24705882],\n",
              "         [0.16862745, 0.18039216, 0.17647059],\n",
              "         [0.19607843, 0.18823529, 0.16862745],\n",
              "         ...,\n",
              "         [0.61960784, 0.51764706, 0.42352941],\n",
              "         [0.59607843, 0.49019608, 0.4       ],\n",
              "         [0.58039216, 0.48627451, 0.40392157]],\n",
              "\n",
              "        [[0.0627451 , 0.07843137, 0.07843137],\n",
              "         [0.        , 0.        , 0.        ],\n",
              "         [0.07058824, 0.03137255, 0.        ],\n",
              "         ...,\n",
              "         [0.48235294, 0.34509804, 0.21568627],\n",
              "         [0.46666667, 0.3254902 , 0.19607843],\n",
              "         [0.47843137, 0.34117647, 0.22352941]],\n",
              "\n",
              "        [[0.09803922, 0.09411765, 0.08235294],\n",
              "         [0.0627451 , 0.02745098, 0.        ],\n",
              "         [0.19215686, 0.10588235, 0.03137255],\n",
              "         ...,\n",
              "         [0.4627451 , 0.32941176, 0.19607843],\n",
              "         [0.47058824, 0.32941176, 0.19607843],\n",
              "         [0.42745098, 0.28627451, 0.16470588]],\n",
              "\n",
              "        ...,\n",
              "\n",
              "        [[0.81568627, 0.66666667, 0.37647059],\n",
              "         [0.78823529, 0.6       , 0.13333333],\n",
              "         [0.77647059, 0.63137255, 0.10196078],\n",
              "         ...,\n",
              "         [0.62745098, 0.52156863, 0.2745098 ],\n",
              "         [0.21960784, 0.12156863, 0.02745098],\n",
              "         [0.20784314, 0.13333333, 0.07843137]],\n",
              "\n",
              "        [[0.70588235, 0.54509804, 0.37647059],\n",
              "         [0.67843137, 0.48235294, 0.16470588],\n",
              "         [0.72941176, 0.56470588, 0.11764706],\n",
              "         ...,\n",
              "         [0.72156863, 0.58039216, 0.36862745],\n",
              "         [0.38039216, 0.24313725, 0.13333333],\n",
              "         [0.3254902 , 0.20784314, 0.13333333]],\n",
              "\n",
              "        [[0.69411765, 0.56470588, 0.45490196],\n",
              "         [0.65882353, 0.50588235, 0.36862745],\n",
              "         [0.70196078, 0.55686275, 0.34117647],\n",
              "         ...,\n",
              "         [0.84705882, 0.72156863, 0.54901961],\n",
              "         [0.59215686, 0.4627451 , 0.32941176],\n",
              "         [0.48235294, 0.36078431, 0.28235294]]],\n",
              "\n",
              "\n",
              "       [[[0.60392157, 0.69411765, 0.73333333],\n",
              "         [0.49411765, 0.5372549 , 0.53333333],\n",
              "         [0.41176471, 0.40784314, 0.37254902],\n",
              "         ...,\n",
              "         [0.35686275, 0.37254902, 0.27843137],\n",
              "         [0.34117647, 0.35294118, 0.27843137],\n",
              "         [0.30980392, 0.31764706, 0.2745098 ]],\n",
              "\n",
              "        [[0.54901961, 0.62745098, 0.6627451 ],\n",
              "         [0.56862745, 0.6       , 0.60392157],\n",
              "         [0.49019608, 0.49019608, 0.4627451 ],\n",
              "         ...,\n",
              "         [0.37647059, 0.38823529, 0.30588235],\n",
              "         [0.30196078, 0.31372549, 0.24313725],\n",
              "         [0.27843137, 0.28627451, 0.23921569]],\n",
              "\n",
              "        [[0.54901961, 0.60784314, 0.64313725],\n",
              "         [0.54509804, 0.57254902, 0.58431373],\n",
              "         [0.45098039, 0.45098039, 0.43921569],\n",
              "         ...,\n",
              "         [0.30980392, 0.32156863, 0.25098039],\n",
              "         [0.26666667, 0.2745098 , 0.21568627],\n",
              "         [0.2627451 , 0.27058824, 0.21568627]],\n",
              "\n",
              "        ...,\n",
              "\n",
              "        [[0.68627451, 0.65490196, 0.65098039],\n",
              "         [0.61176471, 0.60392157, 0.62745098],\n",
              "         [0.60392157, 0.62745098, 0.66666667],\n",
              "         ...,\n",
              "         [0.16470588, 0.13333333, 0.14117647],\n",
              "         [0.23921569, 0.20784314, 0.22352941],\n",
              "         [0.36470588, 0.3254902 , 0.35686275]],\n",
              "\n",
              "        [[0.64705882, 0.60392157, 0.50196078],\n",
              "         [0.61176471, 0.59607843, 0.50980392],\n",
              "         [0.62352941, 0.63137255, 0.55686275],\n",
              "         ...,\n",
              "         [0.40392157, 0.36470588, 0.37647059],\n",
              "         [0.48235294, 0.44705882, 0.47058824],\n",
              "         [0.51372549, 0.4745098 , 0.51372549]],\n",
              "\n",
              "        [[0.63921569, 0.58039216, 0.47058824],\n",
              "         [0.61960784, 0.58039216, 0.47843137],\n",
              "         [0.63921569, 0.61176471, 0.52156863],\n",
              "         ...,\n",
              "         [0.56078431, 0.52156863, 0.54509804],\n",
              "         [0.56078431, 0.5254902 , 0.55686275],\n",
              "         [0.56078431, 0.52156863, 0.56470588]]],\n",
              "\n",
              "\n",
              "       [[[1.        , 1.        , 1.        ],\n",
              "         [0.99215686, 0.99215686, 0.99215686],\n",
              "         [0.99215686, 0.99215686, 0.99215686],\n",
              "         ...,\n",
              "         [0.99215686, 0.99215686, 0.99215686],\n",
              "         [0.99215686, 0.99215686, 0.99215686],\n",
              "         [0.99215686, 0.99215686, 0.99215686]],\n",
              "\n",
              "        [[1.        , 1.        , 1.        ],\n",
              "         [1.        , 1.        , 1.        ],\n",
              "         [1.        , 1.        , 1.        ],\n",
              "         ...,\n",
              "         [1.        , 1.        , 1.        ],\n",
              "         [1.        , 1.        , 1.        ],\n",
              "         [1.        , 1.        , 1.        ]],\n",
              "\n",
              "        [[1.        , 1.        , 1.        ],\n",
              "         [0.99607843, 0.99607843, 0.99607843],\n",
              "         [0.99607843, 0.99607843, 0.99607843],\n",
              "         ...,\n",
              "         [0.99607843, 0.99607843, 0.99607843],\n",
              "         [0.99607843, 0.99607843, 0.99607843],\n",
              "         [0.99607843, 0.99607843, 0.99607843]],\n",
              "\n",
              "        ...,\n",
              "\n",
              "        [[0.44313725, 0.47058824, 0.43921569],\n",
              "         [0.43529412, 0.4627451 , 0.43529412],\n",
              "         [0.41176471, 0.43921569, 0.41568627],\n",
              "         ...,\n",
              "         [0.28235294, 0.31764706, 0.31372549],\n",
              "         [0.28235294, 0.31372549, 0.30980392],\n",
              "         [0.28235294, 0.31372549, 0.30980392]],\n",
              "\n",
              "        [[0.43529412, 0.4627451 , 0.43137255],\n",
              "         [0.40784314, 0.43529412, 0.40784314],\n",
              "         [0.38823529, 0.41568627, 0.38431373],\n",
              "         ...,\n",
              "         [0.26666667, 0.29411765, 0.28627451],\n",
              "         [0.2745098 , 0.29803922, 0.29411765],\n",
              "         [0.30588235, 0.32941176, 0.32156863]],\n",
              "\n",
              "        [[0.41568627, 0.44313725, 0.41176471],\n",
              "         [0.38823529, 0.41568627, 0.38431373],\n",
              "         [0.37254902, 0.4       , 0.36862745],\n",
              "         ...,\n",
              "         [0.30588235, 0.33333333, 0.3254902 ],\n",
              "         [0.30980392, 0.33333333, 0.3254902 ],\n",
              "         [0.31372549, 0.3372549 , 0.32941176]]],\n",
              "\n",
              "\n",
              "       ...,\n",
              "\n",
              "\n",
              "       [[[0.1372549 , 0.69803922, 0.92156863],\n",
              "         [0.15686275, 0.69019608, 0.9372549 ],\n",
              "         [0.16470588, 0.69019608, 0.94509804],\n",
              "         ...,\n",
              "         [0.38823529, 0.69411765, 0.85882353],\n",
              "         [0.30980392, 0.57647059, 0.77254902],\n",
              "         [0.34901961, 0.58039216, 0.74117647]],\n",
              "\n",
              "        [[0.22352941, 0.71372549, 0.91764706],\n",
              "         [0.17254902, 0.72156863, 0.98039216],\n",
              "         [0.19607843, 0.71764706, 0.94117647],\n",
              "         ...,\n",
              "         [0.61176471, 0.71372549, 0.78431373],\n",
              "         [0.55294118, 0.69411765, 0.80784314],\n",
              "         [0.45490196, 0.58431373, 0.68627451]],\n",
              "\n",
              "        [[0.38431373, 0.77254902, 0.92941176],\n",
              "         [0.25098039, 0.74117647, 0.98823529],\n",
              "         [0.27058824, 0.75294118, 0.96078431],\n",
              "         ...,\n",
              "         [0.7372549 , 0.76470588, 0.80784314],\n",
              "         [0.46666667, 0.52941176, 0.57647059],\n",
              "         [0.23921569, 0.30980392, 0.35294118]],\n",
              "\n",
              "        ...,\n",
              "\n",
              "        [[0.28627451, 0.30980392, 0.30196078],\n",
              "         [0.20784314, 0.24705882, 0.26666667],\n",
              "         [0.21176471, 0.26666667, 0.31372549],\n",
              "         ...,\n",
              "         [0.06666667, 0.15686275, 0.25098039],\n",
              "         [0.08235294, 0.14117647, 0.2       ],\n",
              "         [0.12941176, 0.18823529, 0.19215686]],\n",
              "\n",
              "        [[0.23921569, 0.26666667, 0.29411765],\n",
              "         [0.21568627, 0.2745098 , 0.3372549 ],\n",
              "         [0.22352941, 0.30980392, 0.40392157],\n",
              "         ...,\n",
              "         [0.09411765, 0.18823529, 0.28235294],\n",
              "         [0.06666667, 0.1372549 , 0.20784314],\n",
              "         [0.02745098, 0.09019608, 0.1254902 ]],\n",
              "\n",
              "        [[0.17254902, 0.21960784, 0.28627451],\n",
              "         [0.18039216, 0.25882353, 0.34509804],\n",
              "         [0.19215686, 0.30196078, 0.41176471],\n",
              "         ...,\n",
              "         [0.10588235, 0.20392157, 0.30196078],\n",
              "         [0.08235294, 0.16862745, 0.25882353],\n",
              "         [0.04705882, 0.12156863, 0.19607843]]],\n",
              "\n",
              "\n",
              "       [[[0.74117647, 0.82745098, 0.94117647],\n",
              "         [0.72941176, 0.81568627, 0.9254902 ],\n",
              "         [0.7254902 , 0.81176471, 0.92156863],\n",
              "         ...,\n",
              "         [0.68627451, 0.76470588, 0.87843137],\n",
              "         [0.6745098 , 0.76078431, 0.87058824],\n",
              "         [0.6627451 , 0.76078431, 0.8627451 ]],\n",
              "\n",
              "        [[0.76078431, 0.82352941, 0.9372549 ],\n",
              "         [0.74901961, 0.81176471, 0.9254902 ],\n",
              "         [0.74509804, 0.80784314, 0.92156863],\n",
              "         ...,\n",
              "         [0.67843137, 0.75294118, 0.8627451 ],\n",
              "         [0.67058824, 0.74901961, 0.85490196],\n",
              "         [0.65490196, 0.74509804, 0.84705882]],\n",
              "\n",
              "        [[0.81568627, 0.85882353, 0.95686275],\n",
              "         [0.80392157, 0.84705882, 0.94117647],\n",
              "         [0.8       , 0.84313725, 0.9372549 ],\n",
              "         ...,\n",
              "         [0.68627451, 0.74901961, 0.85098039],\n",
              "         [0.6745098 , 0.74509804, 0.84705882],\n",
              "         [0.6627451 , 0.74901961, 0.84313725]],\n",
              "\n",
              "        ...,\n",
              "\n",
              "        [[0.81176471, 0.78039216, 0.70980392],\n",
              "         [0.79607843, 0.76470588, 0.68627451],\n",
              "         [0.79607843, 0.76862745, 0.67843137],\n",
              "         ...,\n",
              "         [0.52941176, 0.51764706, 0.49803922],\n",
              "         [0.63529412, 0.61960784, 0.58823529],\n",
              "         [0.65882353, 0.63921569, 0.59215686]],\n",
              "\n",
              "        [[0.77647059, 0.74509804, 0.66666667],\n",
              "         [0.74117647, 0.70980392, 0.62352941],\n",
              "         [0.70588235, 0.6745098 , 0.57647059],\n",
              "         ...,\n",
              "         [0.69803922, 0.67058824, 0.62745098],\n",
              "         [0.68627451, 0.6627451 , 0.61176471],\n",
              "         [0.68627451, 0.6627451 , 0.60392157]],\n",
              "\n",
              "        [[0.77647059, 0.74117647, 0.67843137],\n",
              "         [0.74117647, 0.70980392, 0.63529412],\n",
              "         [0.69803922, 0.66666667, 0.58431373],\n",
              "         ...,\n",
              "         [0.76470588, 0.72156863, 0.6627451 ],\n",
              "         [0.76862745, 0.74117647, 0.67058824],\n",
              "         [0.76470588, 0.74509804, 0.67058824]]],\n",
              "\n",
              "\n",
              "       [[[0.89803922, 0.89803922, 0.9372549 ],\n",
              "         [0.9254902 , 0.92941176, 0.96862745],\n",
              "         [0.91764706, 0.9254902 , 0.96862745],\n",
              "         ...,\n",
              "         [0.85098039, 0.85882353, 0.91372549],\n",
              "         [0.86666667, 0.8745098 , 0.91764706],\n",
              "         [0.87058824, 0.8745098 , 0.91372549]],\n",
              "\n",
              "        [[0.87058824, 0.86666667, 0.89803922],\n",
              "         [0.9372549 , 0.9372549 , 0.97647059],\n",
              "         [0.91372549, 0.91764706, 0.96470588],\n",
              "         ...,\n",
              "         [0.8745098 , 0.8745098 , 0.9254902 ],\n",
              "         [0.89019608, 0.89411765, 0.93333333],\n",
              "         [0.82352941, 0.82745098, 0.8627451 ]],\n",
              "\n",
              "        [[0.83529412, 0.80784314, 0.82745098],\n",
              "         [0.91764706, 0.90980392, 0.9372549 ],\n",
              "         [0.90588235, 0.91372549, 0.95686275],\n",
              "         ...,\n",
              "         [0.8627451 , 0.8627451 , 0.90980392],\n",
              "         [0.8627451 , 0.85882353, 0.90980392],\n",
              "         [0.79215686, 0.79607843, 0.84313725]],\n",
              "\n",
              "        ...,\n",
              "\n",
              "        [[0.58823529, 0.56078431, 0.52941176],\n",
              "         [0.54901961, 0.52941176, 0.49803922],\n",
              "         [0.51764706, 0.49803922, 0.47058824],\n",
              "         ...,\n",
              "         [0.87843137, 0.87058824, 0.85490196],\n",
              "         [0.90196078, 0.89411765, 0.88235294],\n",
              "         [0.94509804, 0.94509804, 0.93333333]],\n",
              "\n",
              "        [[0.5372549 , 0.51764706, 0.49411765],\n",
              "         [0.50980392, 0.49803922, 0.47058824],\n",
              "         [0.49019608, 0.4745098 , 0.45098039],\n",
              "         ...,\n",
              "         [0.70980392, 0.70588235, 0.69803922],\n",
              "         [0.79215686, 0.78823529, 0.77647059],\n",
              "         [0.83137255, 0.82745098, 0.81176471]],\n",
              "\n",
              "        [[0.47843137, 0.46666667, 0.44705882],\n",
              "         [0.4627451 , 0.45490196, 0.43137255],\n",
              "         [0.47058824, 0.45490196, 0.43529412],\n",
              "         ...,\n",
              "         [0.70196078, 0.69411765, 0.67843137],\n",
              "         [0.64313725, 0.64313725, 0.63529412],\n",
              "         [0.63921569, 0.63921569, 0.63137255]]]])"
            ]
          },
          "metadata": {},
          "execution_count": 12
        }
      ]
    },
    {
      "cell_type": "code",
      "source": [
        "from sklearn.preprocessing import OneHotEncoder"
      ],
      "metadata": {
        "id": "_pH98c2dTM1K"
      },
      "execution_count": 13,
      "outputs": []
    },
    {
      "cell_type": "code",
      "source": [
        "one_hot_encoder = OneHotEncoder(sparse = False)\n",
        "y_train = one_hot_encoder.fit_transform(y_train)\n",
        "y_test = one_hot_encoder.fit_transform(y_test)"
      ],
      "metadata": {
        "colab": {
          "base_uri": "https://localhost:8080/"
        },
        "id": "-yfA0dq5Tb-N",
        "outputId": "8201b8e5-fa62-45ea-9a7d-bb9acaa631ad"
      },
      "execution_count": 14,
      "outputs": [
        {
          "output_type": "stream",
          "name": "stderr",
          "text": [
            "/usr/local/lib/python3.10/dist-packages/sklearn/preprocessing/_encoders.py:868: FutureWarning: `sparse` was renamed to `sparse_output` in version 1.2 and will be removed in 1.4. `sparse_output` is ignored unless you leave `sparse` to its default value.\n",
            "  warnings.warn(\n",
            "/usr/local/lib/python3.10/dist-packages/sklearn/preprocessing/_encoders.py:868: FutureWarning: `sparse` was renamed to `sparse_output` in version 1.2 and will be removed in 1.4. `sparse_output` is ignored unless you leave `sparse` to its default value.\n",
            "  warnings.warn(\n"
          ]
        }
      ]
    },
    {
      "cell_type": "code",
      "source": [
        "print(y_train[2225])"
      ],
      "metadata": {
        "colab": {
          "base_uri": "https://localhost:8080/"
        },
        "id": "S8mabSrwUkZJ",
        "outputId": "38da46e1-9103-4a11-ef59-9b8258531222"
      },
      "execution_count": 15,
      "outputs": [
        {
          "output_type": "stream",
          "name": "stdout",
          "text": [
            "[0. 0. 0. 0. 1. 0. 0. 0. 0. 0.]\n"
          ]
        }
      ]
    },
    {
      "cell_type": "code",
      "source": [
        "print(y_test[90])"
      ],
      "metadata": {
        "colab": {
          "base_uri": "https://localhost:8080/"
        },
        "id": "InPjuZpOUxfi",
        "outputId": "832cc834-425f-44e5-ec46-f057b2fb0134"
      },
      "execution_count": 16,
      "outputs": [
        {
          "output_type": "stream",
          "name": "stdout",
          "text": [
            "[1. 0. 0. 0. 0. 0. 0. 0. 0. 0.]\n"
          ]
        }
      ]
    },
    {
      "cell_type": "code",
      "source": [
        "X_train.shape"
      ],
      "metadata": {
        "colab": {
          "base_uri": "https://localhost:8080/"
        },
        "id": "7RwUhoCOgEn7",
        "outputId": "b3353184-fb0e-4099-c8b3-d2960ad063cd"
      },
      "execution_count": 17,
      "outputs": [
        {
          "output_type": "execute_result",
          "data": {
            "text/plain": [
              "(50000, 32, 32, 3)"
            ]
          },
          "metadata": {},
          "execution_count": 17
        }
      ]
    },
    {
      "cell_type": "code",
      "source": [
        "y_test.shape"
      ],
      "metadata": {
        "colab": {
          "base_uri": "https://localhost:8080/"
        },
        "id": "rNZ4OImdgIN0",
        "outputId": "5aebb0bc-5afc-4020-e640-ae291e94c208"
      },
      "execution_count": 18,
      "outputs": [
        {
          "output_type": "execute_result",
          "data": {
            "text/plain": [
              "(10000, 10)"
            ]
          },
          "metadata": {},
          "execution_count": 18
        }
      ]
    },
    {
      "cell_type": "markdown",
      "source": [
        "# CNN (Convolutional Neural Networks)"
      ],
      "metadata": {
        "id": "CcqhANw_VM4S"
      }
    },
    {
      "cell_type": "code",
      "source": [
        "batch_size = 32 #50000 veri 32,32,32,32 -> batch_size 50000/32 = 1563 tane 32 li paket oluşturuyor\n",
        "num_classess = len(classes)\n",
        "epoch = 55 # ağırlık güncellemesi yapıyor 55 tane\n",
        "input_size = (32,32,3)"
      ],
      "metadata": {
        "id": "a1S4UYcRVLki"
      },
      "execution_count": 20,
      "outputs": []
    },
    {
      "cell_type": "code",
      "source": [
        "model = tf.keras.models.Sequential([\n",
        "    tf.keras.layers.Conv2D(32, 3, input_shape = input_size, activation = \"relu\"),\n",
        "    tf.keras.layers.Conv2D(32, 3, activation = \"relu\"),\n",
        "    tf.keras.layers.MaxPool2D(pool_size = (2,2)),\n",
        "    tf.keras.layers.Dropout(0.25),\n",
        "\n",
        "    tf.keras.layers.Conv2D(64, 3,padding=\"same\" , activation = \"relu\"),\n",
        "    tf.keras.layers.Conv2D(64, 3, activation = \"relu\"),\n",
        "    tf.keras.layers.MaxPool2D(pool_size = (2,2)),\n",
        "    tf.keras.layers.Dropout(0.25),\n",
        "\n",
        "    tf.keras.layers.Conv2D(128, 3,padding=\"same\", activation = \"relu\"),\n",
        "    tf.keras.layers.Conv2D(128, 3, activation = \"relu\"),\n",
        "    tf.keras.layers.MaxPool2D(pool_size = (2,2)),\n",
        "    tf.keras.layers.Dropout(0.25),\n",
        "\n",
        "    tf.keras.layers.Flatten(),\n",
        "    tf.keras.layers.Dense(256,activation=\"relu\"),\n",
        "    tf.keras.layers.Dropout(0.5),\n",
        "    tf.keras.layers.Dense(num_classess,activation=\"softmax\"),\n",
        "])"
      ],
      "metadata": {
        "id": "VDDRfHDOVgrr"
      },
      "execution_count": 21,
      "outputs": []
    },
    {
      "cell_type": "code",
      "source": [
        "model.compile(optimizer = \"adam\", loss = \"CategoricalCrossentropy\",metrics = [\"accuracy\"])"
      ],
      "metadata": {
        "id": "0mHlItldeQdB"
      },
      "execution_count": 22,
      "outputs": []
    },
    {
      "cell_type": "code",
      "source": [
        "history = model.fit(X_train,y_train,batch_size = batch_size, epochs= epoch)"
      ],
      "metadata": {
        "colab": {
          "base_uri": "https://localhost:8080/"
        },
        "id": "Jt-0LMyqfj2A",
        "outputId": "65582ab1-1e24-4745-8b24-a5e03e0ccfe9"
      },
      "execution_count": 23,
      "outputs": [
        {
          "output_type": "stream",
          "name": "stdout",
          "text": [
            "Epoch 1/55\n",
            "1563/1563 [==============================] - 23s 7ms/step - loss: 1.6492 - accuracy: 0.3812\n",
            "Epoch 2/55\n",
            "1563/1563 [==============================] - 11s 7ms/step - loss: 1.2275 - accuracy: 0.5628\n",
            "Epoch 3/55\n",
            "1563/1563 [==============================] - 10s 7ms/step - loss: 1.0635 - accuracy: 0.6260\n",
            "Epoch 4/55\n",
            "1563/1563 [==============================] - 12s 7ms/step - loss: 0.9597 - accuracy: 0.6623\n",
            "Epoch 5/55\n",
            "1563/1563 [==============================] - 11s 7ms/step - loss: 0.8952 - accuracy: 0.6899\n",
            "Epoch 6/55\n",
            "1563/1563 [==============================] - 10s 7ms/step - loss: 0.8451 - accuracy: 0.7079\n",
            "Epoch 7/55\n",
            "1563/1563 [==============================] - 10s 6ms/step - loss: 0.8093 - accuracy: 0.7206\n",
            "Epoch 8/55\n",
            "1563/1563 [==============================] - 10s 7ms/step - loss: 0.7742 - accuracy: 0.7323\n",
            "Epoch 9/55\n",
            "1563/1563 [==============================] - 10s 7ms/step - loss: 0.7564 - accuracy: 0.7409\n",
            "Epoch 10/55\n",
            "1563/1563 [==============================] - 10s 7ms/step - loss: 0.7439 - accuracy: 0.7455\n",
            "Epoch 11/55\n",
            "1563/1563 [==============================] - 11s 7ms/step - loss: 0.7208 - accuracy: 0.7512\n",
            "Epoch 12/55\n",
            "1563/1563 [==============================] - 10s 7ms/step - loss: 0.7073 - accuracy: 0.7563\n",
            "Epoch 13/55\n",
            "1563/1563 [==============================] - 10s 6ms/step - loss: 0.6949 - accuracy: 0.7625\n",
            "Epoch 14/55\n",
            "1563/1563 [==============================] - 10s 7ms/step - loss: 0.6858 - accuracy: 0.7653\n",
            "Epoch 15/55\n",
            "1563/1563 [==============================] - 10s 7ms/step - loss: 0.6778 - accuracy: 0.7676\n",
            "Epoch 16/55\n",
            "1563/1563 [==============================] - 11s 7ms/step - loss: 0.6684 - accuracy: 0.7733\n",
            "Epoch 17/55\n",
            "1563/1563 [==============================] - 10s 7ms/step - loss: 0.6632 - accuracy: 0.7714\n",
            "Epoch 18/55\n",
            "1563/1563 [==============================] - 11s 7ms/step - loss: 0.6543 - accuracy: 0.7763\n",
            "Epoch 19/55\n",
            "1563/1563 [==============================] - 10s 6ms/step - loss: 0.6429 - accuracy: 0.7804\n",
            "Epoch 20/55\n",
            "1563/1563 [==============================] - 10s 7ms/step - loss: 0.6384 - accuracy: 0.7809\n",
            "Epoch 21/55\n",
            "1563/1563 [==============================] - 10s 7ms/step - loss: 0.6366 - accuracy: 0.7829\n",
            "Epoch 22/55\n",
            "1563/1563 [==============================] - 10s 7ms/step - loss: 0.6280 - accuracy: 0.7857\n",
            "Epoch 23/55\n",
            "1563/1563 [==============================] - 11s 7ms/step - loss: 0.6242 - accuracy: 0.7868\n",
            "Epoch 24/55\n",
            "1563/1563 [==============================] - 11s 7ms/step - loss: 0.6144 - accuracy: 0.7878\n",
            "Epoch 25/55\n",
            "1563/1563 [==============================] - 10s 6ms/step - loss: 0.6204 - accuracy: 0.7889\n",
            "Epoch 26/55\n",
            "1563/1563 [==============================] - 10s 7ms/step - loss: 0.6085 - accuracy: 0.7917\n",
            "Epoch 27/55\n",
            "1563/1563 [==============================] - 10s 7ms/step - loss: 0.6134 - accuracy: 0.7928\n",
            "Epoch 28/55\n",
            "1563/1563 [==============================] - 10s 7ms/step - loss: 0.6100 - accuracy: 0.7935\n",
            "Epoch 29/55\n",
            "1563/1563 [==============================] - 11s 7ms/step - loss: 0.6120 - accuracy: 0.7937\n",
            "Epoch 30/55\n",
            "1563/1563 [==============================] - 11s 7ms/step - loss: 0.6132 - accuracy: 0.7934\n",
            "Epoch 31/55\n",
            "1563/1563 [==============================] - 10s 6ms/step - loss: 0.5973 - accuracy: 0.7979\n",
            "Epoch 32/55\n",
            "1563/1563 [==============================] - 10s 6ms/step - loss: 0.5952 - accuracy: 0.7960\n",
            "Epoch 33/55\n",
            "1563/1563 [==============================] - 15s 10ms/step - loss: 0.5930 - accuracy: 0.7958\n",
            "Epoch 34/55\n",
            "1563/1563 [==============================] - 14s 9ms/step - loss: 0.5884 - accuracy: 0.8000\n",
            "Epoch 35/55\n",
            "1563/1563 [==============================] - 10s 6ms/step - loss: 0.5887 - accuracy: 0.7995\n",
            "Epoch 36/55\n",
            "1563/1563 [==============================] - 10s 7ms/step - loss: 0.5848 - accuracy: 0.8008\n",
            "Epoch 37/55\n",
            "1563/1563 [==============================] - 11s 7ms/step - loss: 0.5787 - accuracy: 0.8041\n",
            "Epoch 38/55\n",
            "1563/1563 [==============================] - 10s 7ms/step - loss: 0.5839 - accuracy: 0.8013\n",
            "Epoch 39/55\n",
            "1563/1563 [==============================] - 10s 7ms/step - loss: 0.5746 - accuracy: 0.8034\n",
            "Epoch 40/55\n",
            "1563/1563 [==============================] - 10s 7ms/step - loss: 0.5789 - accuracy: 0.8040\n",
            "Epoch 41/55\n",
            "1563/1563 [==============================] - 12s 7ms/step - loss: 0.5770 - accuracy: 0.8019\n",
            "Epoch 42/55\n",
            "1563/1563 [==============================] - 10s 6ms/step - loss: 0.5776 - accuracy: 0.8060\n",
            "Epoch 43/55\n",
            "1563/1563 [==============================] - 10s 7ms/step - loss: 0.5745 - accuracy: 0.8049\n",
            "Epoch 44/55\n",
            "1563/1563 [==============================] - 10s 7ms/step - loss: 0.5787 - accuracy: 0.8039\n",
            "Epoch 45/55\n",
            "1563/1563 [==============================] - 11s 7ms/step - loss: 0.5717 - accuracy: 0.8090\n",
            "Epoch 46/55\n",
            "1563/1563 [==============================] - 11s 7ms/step - loss: 0.5765 - accuracy: 0.8056\n",
            "Epoch 47/55\n",
            "1563/1563 [==============================] - 11s 7ms/step - loss: 0.5732 - accuracy: 0.8050\n",
            "Epoch 48/55\n",
            "1563/1563 [==============================] - 10s 6ms/step - loss: 0.5738 - accuracy: 0.8066\n",
            "Epoch 49/55\n",
            "1563/1563 [==============================] - 10s 7ms/step - loss: 0.5703 - accuracy: 0.8070\n",
            "Epoch 50/55\n",
            "1563/1563 [==============================] - 10s 7ms/step - loss: 0.5753 - accuracy: 0.8057\n",
            "Epoch 51/55\n",
            "1563/1563 [==============================] - 10s 7ms/step - loss: 0.5747 - accuracy: 0.8058\n",
            "Epoch 52/55\n",
            "1563/1563 [==============================] - 10s 7ms/step - loss: 0.5623 - accuracy: 0.8104\n",
            "Epoch 53/55\n",
            "1563/1563 [==============================] - 10s 7ms/step - loss: 0.5655 - accuracy: 0.8117\n",
            "Epoch 54/55\n",
            "1563/1563 [==============================] - 10s 6ms/step - loss: 0.5750 - accuracy: 0.8075\n",
            "Epoch 55/55\n",
            "1563/1563 [==============================] - 11s 7ms/step - loss: 0.5674 - accuracy: 0.8088\n"
          ]
        }
      ]
    },
    {
      "cell_type": "code",
      "source": [
        "fig, ax = plt.subplots(2,1)\n",
        "ax[0].plot(history.history['loss'], color='blue', label=\"Training Loss\")\n",
        "legend = ax[0].legend(loc='best', shadow=True)\n",
        "\n",
        "ax[1].plot(history.history['accuracy'], color='c', label=\"Training Accuracy\")\n",
        "legend = ax[1].legend(loc='best', shadow=True)"
      ],
      "metadata": {
        "colab": {
          "base_uri": "https://localhost:8080/",
          "height": 430
        },
        "id": "f4iEUZyMf8Ty",
        "outputId": "970c7ca1-d750-4199-f1f3-48e107d20ae6"
      },
      "execution_count": 25,
      "outputs": [
        {
          "output_type": "display_data",
          "data": {
            "text/plain": [
              "<Figure size 640x480 with 2 Axes>"
            ],
            "image/png": "[encoded data removed]"
          },
          "metadata": {}
        }
      ]
    },
    {
      "cell_type": "code",
      "source": [
        "test_loss, test_acc = model.evaluate(X_test, y_test)"
      ],
      "metadata": {
        "colab": {
          "base_uri": "https://localhost:8080/"
        },
        "id": "KcJpopK7iYIq",
        "outputId": "708b701b-1e0e-4d59-bb45-9d75562c8cf1"
      },
      "execution_count": 26,
      "outputs": [
        {
          "output_type": "stream",
          "name": "stdout",
          "text": [
            "313/313 [==============================] - 1s 4ms/step - loss: 0.6423 - accuracy: 0.7930\n"
          ]
        }
      ]
    },
    {
      "cell_type": "code",
      "source": [
        "y_pred = model.predict(X_test)\n",
        "y_pred_classes = np.argmax(y_pred,axis = 1)\n",
        "y_true = np.argmax(y_test,axis = 1)\n",
        "confusion_mtx = tf.math.confusion_matrix(y_true, y_pred_classes)"
      ],
      "metadata": {
        "colab": {
          "base_uri": "https://localhost:8080/"
        },
        "id": "LqqKXmpviaa5",
        "outputId": "cc9c75f3-31a0-452b-c1fe-c5e90a0751ac"
      },
      "execution_count": 27,
      "outputs": [
        {
          "output_type": "stream",
          "name": "stdout",
          "text": [
            "313/313 [==============================] - 1s 2ms/step\n"
          ]
        }
      ]
    },
    {
      "cell_type": "code",
      "source": [
        "import seaborn as sns\n",
        "plt.figure(figsize=(12, 9))\n",
        "c = sns.heatmap(confusion_mtx, annot=True, fmt='g')\n",
        "c.set(xticklabels=classes, yticklabels=classes)"
      ],
      "metadata": {
        "colab": {
          "base_uri": "https://localhost:8080/",
          "height": 1000
        },
        "id": "Wfkyp-ASiciR",
        "outputId": "f612d9ab-7a51-45c5-9e5b-350bef6c60fa"
      },
      "execution_count": 28,
      "outputs": [
        {
          "output_type": "execute_result",
          "data": {
            "text/plain": [
              "[[Text(0.5, 0, 'airplane'),\n",
              "  Text(1.5, 0, 'automobile'),\n",
              "  Text(2.5, 0, 'bird'),\n",
              "  Text(3.5, 0, 'cat'),\n",
              "  Text(4.5, 0, 'deer'),\n",
              "  Text(5.5, 0, 'dog'),\n",
              "  Text(6.5, 0, 'frog'),\n",
              "  Text(7.5, 0, 'horse'),\n",
              "  Text(8.5, 0, 'ship'),\n",
              "  Text(9.5, 0, 'truck')],\n",
              " [Text(0, 0.5, 'airplane'),\n",
              "  Text(0, 1.5, 'automobile'),\n",
              "  Text(0, 2.5, 'bird'),\n",
              "  Text(0, 3.5, 'cat'),\n",
              "  Text(0, 4.5, 'deer'),\n",
              "  Text(0, 5.5, 'dog'),\n",
              "  Text(0, 6.5, 'frog'),\n",
              "  Text(0, 7.5, 'horse'),\n",
              "  Text(0, 8.5, 'ship'),\n",
              "  Text(0, 9.5, 'truck')]]"
            ]
          },
          "metadata": {},
          "execution_count": 28
        },
        {
          "output_type": "display_data",
          "data": {
            "text/plain": [
              "<Figure size 1200x900 with 2 Axes>"
            ],
            "image/png": "[encoded data removed]"
          },
          "metadata": {}
        }
      ]
    },
    {
      "cell_type": "code",
      "source": [
        "datagen = tf.keras.preprocessing.image.ImageDataGenerator(\n",
        "    featurewise_center=True,\n",
        "    featurewise_std_normalization=True,\n",
        "    rotation_range=20,\n",
        "    width_shift_range=0.2,\n",
        "    height_shift_range=0.2,\n",
        "    horizontal_flip=True,\n",
        "   )\n",
        "\n",
        "it_train = datagen.flow(X_train, y_train, batch_size=32)\n",
        "model.fit(it_train,epochs=50)"
      ],
      "metadata": {
        "colab": {
          "base_uri": "https://localhost:8080/"
        },
        "id": "Z6oeFBxx7YwZ",
        "outputId": "b007ba02-845b-46b6-cb2e-f1585dc5171a"
      },
      "execution_count": 29,
      "outputs": [
        {
          "output_type": "stream",
          "name": "stdout",
          "text": [
            "Epoch 1/50\n"
          ]
        },
        {
          "output_type": "stream",
          "name": "stderr",
          "text": [
            "/usr/local/lib/python3.10/dist-packages/keras/src/preprocessing/image.py:1862: UserWarning: This ImageDataGenerator specifies `featurewise_center`, but it hasn't been fit on any training data. Fit it first by calling `.fit(numpy_data)`.\n",
            "  warnings.warn(\n",
            "/usr/local/lib/python3.10/dist-packages/keras/src/preprocessing/image.py:1872: UserWarning: This ImageDataGenerator specifies `featurewise_std_normalization`, but it hasn't been fit on any training data. Fit it first by calling `.fit(numpy_data)`.\n",
            "  warnings.warn(\n"
          ]
        },
        {
          "output_type": "stream",
          "name": "stdout",
          "text": [
            "1563/1563 [==============================] - 36s 23ms/step - loss: 1.1210 - accuracy: 0.6281\n",
            "Epoch 2/50\n",
            "1563/1563 [==============================] - 36s 23ms/step - loss: 1.0654 - accuracy: 0.6465\n",
            "Epoch 3/50\n",
            "1563/1563 [==============================] - 37s 23ms/step - loss: 1.0529 - accuracy: 0.6504\n",
            "Epoch 4/50\n",
            "1563/1563 [==============================] - 35s 22ms/step - loss: 1.0412 - accuracy: 0.6517\n",
            "Epoch 5/50\n",
            "1563/1563 [==============================] - 35s 23ms/step - loss: 1.0277 - accuracy: 0.6533\n",
            "Epoch 6/50\n",
            "1563/1563 [==============================] - 36s 23ms/step - loss: 1.0215 - accuracy: 0.6615\n",
            "Epoch 7/50\n",
            "1563/1563 [==============================] - 35s 23ms/step - loss: 1.0073 - accuracy: 0.6638\n",
            "Epoch 8/50\n",
            "1563/1563 [==============================] - 36s 23ms/step - loss: 1.0061 - accuracy: 0.6648\n",
            "Epoch 9/50\n",
            "1563/1563 [==============================] - 37s 24ms/step - loss: 0.9968 - accuracy: 0.6655\n",
            "Epoch 10/50\n",
            "1563/1563 [==============================] - 36s 23ms/step - loss: 0.9947 - accuracy: 0.6654\n",
            "Epoch 11/50\n",
            "1563/1563 [==============================] - 37s 23ms/step - loss: 0.9957 - accuracy: 0.6650\n",
            "Epoch 12/50\n",
            "1563/1563 [==============================] - 36s 23ms/step - loss: 0.9922 - accuracy: 0.6673\n",
            "Epoch 13/50\n",
            "1563/1563 [==============================] - 36s 23ms/step - loss: 0.9983 - accuracy: 0.6658\n",
            "Epoch 14/50\n",
            "1563/1563 [==============================] - 35s 22ms/step - loss: 0.9906 - accuracy: 0.6679\n",
            "Epoch 15/50\n",
            "1563/1563 [==============================] - 36s 23ms/step - loss: 0.9851 - accuracy: 0.6715\n",
            "Epoch 16/50\n",
            "1563/1563 [==============================] - 35s 23ms/step - loss: 0.9806 - accuracy: 0.6715\n",
            "Epoch 17/50\n",
            "1563/1563 [==============================] - 35s 22ms/step - loss: 0.9846 - accuracy: 0.6737\n",
            "Epoch 18/50\n",
            "1563/1563 [==============================] - 36s 23ms/step - loss: 0.9902 - accuracy: 0.6677\n",
            "Epoch 19/50\n",
            "1563/1563 [==============================] - 36s 23ms/step - loss: 0.9806 - accuracy: 0.6712\n",
            "Epoch 20/50\n",
            "1563/1563 [==============================] - 35s 22ms/step - loss: 0.9762 - accuracy: 0.6736\n",
            "Epoch 21/50\n",
            "1563/1563 [==============================] - 36s 23ms/step - loss: 0.9881 - accuracy: 0.6696\n",
            "Epoch 22/50\n",
            "1563/1563 [==============================] - 35s 22ms/step - loss: 0.9813 - accuracy: 0.6691\n",
            "Epoch 23/50\n",
            "1563/1563 [==============================] - 36s 23ms/step - loss: 0.9743 - accuracy: 0.6751\n",
            "Epoch 24/50\n",
            "1563/1563 [==============================] - 36s 23ms/step - loss: 0.9738 - accuracy: 0.6729\n",
            "Epoch 25/50\n",
            "1563/1563 [==============================] - 35s 23ms/step - loss: 0.9729 - accuracy: 0.6761\n",
            "Epoch 26/50\n",
            "1563/1563 [==============================] - 35s 23ms/step - loss: 0.9700 - accuracy: 0.6755\n",
            "Epoch 27/50\n",
            "1563/1563 [==============================] - 35s 23ms/step - loss: 0.9734 - accuracy: 0.6761\n",
            "Epoch 28/50\n",
            "1563/1563 [==============================] - 36s 23ms/step - loss: 0.9697 - accuracy: 0.6754\n",
            "Epoch 29/50\n",
            "1563/1563 [==============================] - 38s 24ms/step - loss: 0.9670 - accuracy: 0.6747\n",
            "Epoch 30/50\n",
            "1563/1563 [==============================] - 37s 24ms/step - loss: 0.9642 - accuracy: 0.6782\n",
            "Epoch 31/50\n",
            "1563/1563 [==============================] - 36s 23ms/step - loss: 0.9745 - accuracy: 0.6748\n",
            "Epoch 32/50\n",
            "1563/1563 [==============================] - 36s 23ms/step - loss: 0.9614 - accuracy: 0.6763\n",
            "Epoch 33/50\n",
            "1563/1563 [==============================] - 36s 23ms/step - loss: 0.9641 - accuracy: 0.6784\n",
            "Epoch 34/50\n",
            "1563/1563 [==============================] - 37s 24ms/step - loss: 0.9638 - accuracy: 0.6803\n",
            "Epoch 35/50\n",
            "1563/1563 [==============================] - 36s 23ms/step - loss: 0.9656 - accuracy: 0.6768\n",
            "Epoch 36/50\n",
            "1563/1563 [==============================] - 36s 23ms/step - loss: 0.9730 - accuracy: 0.6764\n",
            "Epoch 37/50\n",
            "1563/1563 [==============================] - 36s 23ms/step - loss: 0.9655 - accuracy: 0.6791\n",
            "Epoch 38/50\n",
            "1563/1563 [==============================] - 37s 24ms/step - loss: 0.9561 - accuracy: 0.6800\n",
            "Epoch 39/50\n",
            "1563/1563 [==============================] - 37s 24ms/step - loss: 0.9589 - accuracy: 0.6786\n",
            "Epoch 40/50\n",
            "1563/1563 [==============================] - 37s 23ms/step - loss: 0.9381 - accuracy: 0.6863\n",
            "Epoch 41/50\n",
            "1563/1563 [==============================] - 37s 24ms/step - loss: 0.9602 - accuracy: 0.6802\n",
            "Epoch 42/50\n",
            "1563/1563 [==============================] - 37s 24ms/step - loss: 0.9569 - accuracy: 0.6813\n",
            "Epoch 43/50\n",
            "1563/1563 [==============================] - 37s 23ms/step - loss: 0.9524 - accuracy: 0.6817\n",
            "Epoch 44/50\n",
            "1563/1563 [==============================] - 36s 23ms/step - loss: 0.9610 - accuracy: 0.6787\n",
            "Epoch 45/50\n",
            "1563/1563 [==============================] - 35s 23ms/step - loss: 0.9524 - accuracy: 0.6827\n",
            "Epoch 46/50\n",
            "1563/1563 [==============================] - 35s 23ms/step - loss: 0.9590 - accuracy: 0.6811\n",
            "Epoch 47/50\n",
            "1563/1563 [==============================] - 35s 22ms/step - loss: 0.9532 - accuracy: 0.6813\n",
            "Epoch 48/50\n",
            "1563/1563 [==============================] - 36s 23ms/step - loss: 0.9544 - accuracy: 0.6835\n",
            "Epoch 49/50\n",
            "1563/1563 [==============================] - 35s 23ms/step - loss: 0.9480 - accuracy: 0.6854\n",
            "Epoch 50/50\n",
            "1563/1563 [==============================] - 36s 23ms/step - loss: 0.9507 - accuracy: 0.6835\n"
          ]
        },
        {
          "output_type": "execute_result",
          "data": {
            "text/plain": [
              "<keras.src.callbacks.History at 0x7cff586a1720>"
            ]
          },
          "metadata": {},
          "execution_count": 29
        }
      ]
    }
  ]
}